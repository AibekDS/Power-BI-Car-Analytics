{
 "cells": [
  {
   "cell_type": "code",
   "execution_count": 3,
   "metadata": {},
   "outputs": [],
   "source": [
    "import pandas as pd"
   ]
  },
  {
   "cell_type": "code",
   "execution_count": 4,
   "metadata": {},
   "outputs": [],
   "source": [
    "df = pd.read_csv('vehicles.csv')"
   ]
  },
  {
   "cell_type": "code",
   "execution_count": 5,
   "metadata": {},
   "outputs": [
    {
     "data": {
      "text/html": [
       "<div>\n",
       "<style scoped>\n",
       "    .dataframe tbody tr th:only-of-type {\n",
       "        vertical-align: middle;\n",
       "    }\n",
       "\n",
       "    .dataframe tbody tr th {\n",
       "        vertical-align: top;\n",
       "    }\n",
       "\n",
       "    .dataframe thead th {\n",
       "        text-align: right;\n",
       "    }\n",
       "</style>\n",
       "<table border=\"1\" class=\"dataframe\">\n",
       "  <thead>\n",
       "    <tr style=\"text-align: right;\">\n",
       "      <th></th>\n",
       "      <th>id</th>\n",
       "      <th>price</th>\n",
       "      <th>year</th>\n",
       "      <th>manufacturer</th>\n",
       "      <th>model</th>\n",
       "      <th>condition</th>\n",
       "      <th>cylinders</th>\n",
       "      <th>odometer</th>\n",
       "      <th>type</th>\n",
       "      <th>paint_color</th>\n",
       "      <th>state</th>\n",
       "      <th>lat</th>\n",
       "      <th>long</th>\n",
       "      <th>posting_date</th>\n",
       "      <th>fuel_id</th>\n",
       "      <th>transmission_id</th>\n",
       "    </tr>\n",
       "  </thead>\n",
       "  <tbody>\n",
       "    <tr>\n",
       "      <th>17950</th>\n",
       "      <td>7301954392</td>\n",
       "      <td>41990</td>\n",
       "      <td>2020</td>\n",
       "      <td>toyota</td>\n",
       "      <td>4runner limited sport</td>\n",
       "      <td>good</td>\n",
       "      <td>6 cylinders</td>\n",
       "      <td>36630</td>\n",
       "      <td>SUV</td>\n",
       "      <td>white</td>\n",
       "      <td>wy</td>\n",
       "      <td>33,79</td>\n",
       "      <td>-84,45</td>\n",
       "      <td>2021-04-05T04:00:21-0600</td>\n",
       "      <td>1</td>\n",
       "      <td>1</td>\n",
       "    </tr>\n",
       "    <tr>\n",
       "      <th>17951</th>\n",
       "      <td>7301953587</td>\n",
       "      <td>51990</td>\n",
       "      <td>2021</td>\n",
       "      <td>cadillac</td>\n",
       "      <td>xt6 premium luxury</td>\n",
       "      <td>good</td>\n",
       "      <td>6 cylinders</td>\n",
       "      <td>6814</td>\n",
       "      <td>other</td>\n",
       "      <td>black</td>\n",
       "      <td>wy</td>\n",
       "      <td>33,78</td>\n",
       "      <td>-84,41</td>\n",
       "      <td>2021-04-05T03:50:20-0600</td>\n",
       "      <td>1</td>\n",
       "      <td>1</td>\n",
       "    </tr>\n",
       "    <tr>\n",
       "      <th>17952</th>\n",
       "      <td>7301952155</td>\n",
       "      <td>48590</td>\n",
       "      <td>2021</td>\n",
       "      <td>cadillac</td>\n",
       "      <td>xt6 premium luxury</td>\n",
       "      <td>good</td>\n",
       "      <td>6 cylinders</td>\n",
       "      <td>7701</td>\n",
       "      <td>other</td>\n",
       "      <td>black</td>\n",
       "      <td>wy</td>\n",
       "      <td>33,78</td>\n",
       "      <td>-84,41</td>\n",
       "      <td>2021-04-05T03:30:19-0600</td>\n",
       "      <td>1</td>\n",
       "      <td>1</td>\n",
       "    </tr>\n",
       "    <tr>\n",
       "      <th>17953</th>\n",
       "      <td>7301591199</td>\n",
       "      <td>33590</td>\n",
       "      <td>2019</td>\n",
       "      <td>lexus</td>\n",
       "      <td>gs 350 sedan 4d</td>\n",
       "      <td>good</td>\n",
       "      <td>6 cylinders</td>\n",
       "      <td>30814</td>\n",
       "      <td>sedan</td>\n",
       "      <td>white</td>\n",
       "      <td>wy</td>\n",
       "      <td>33,78</td>\n",
       "      <td>-84,41</td>\n",
       "      <td>2021-04-04T03:21:34-0600</td>\n",
       "      <td>1</td>\n",
       "      <td>2</td>\n",
       "    </tr>\n",
       "    <tr>\n",
       "      <th>17954</th>\n",
       "      <td>7301591140</td>\n",
       "      <td>28990</td>\n",
       "      <td>2019</td>\n",
       "      <td>lexus</td>\n",
       "      <td>es 350 sedan 4d</td>\n",
       "      <td>good</td>\n",
       "      <td>6 cylinders</td>\n",
       "      <td>30112</td>\n",
       "      <td>sedan</td>\n",
       "      <td>silver</td>\n",
       "      <td>wy</td>\n",
       "      <td>33,79</td>\n",
       "      <td>-84,45</td>\n",
       "      <td>2021-04-04T03:21:11-0600</td>\n",
       "      <td>1</td>\n",
       "      <td>1</td>\n",
       "    </tr>\n",
       "  </tbody>\n",
       "</table>\n",
       "</div>"
      ],
      "text/plain": [
       "               id  price  year manufacturer                  model condition  \\\n",
       "17950  7301954392  41990  2020       toyota  4runner limited sport      good   \n",
       "17951  7301953587  51990  2021     cadillac     xt6 premium luxury      good   \n",
       "17952  7301952155  48590  2021     cadillac     xt6 premium luxury      good   \n",
       "17953  7301591199  33590  2019        lexus        gs 350 sedan 4d      good   \n",
       "17954  7301591140  28990  2019        lexus        es 350 sedan 4d      good   \n",
       "\n",
       "         cylinders  odometer   type paint_color state    lat    long  \\\n",
       "17950  6 cylinders     36630    SUV       white    wy  33,79  -84,45   \n",
       "17951  6 cylinders      6814  other       black    wy  33,78  -84,41   \n",
       "17952  6 cylinders      7701  other       black    wy  33,78  -84,41   \n",
       "17953  6 cylinders     30814  sedan       white    wy  33,78  -84,41   \n",
       "17954  6 cylinders     30112  sedan      silver    wy  33,79  -84,45   \n",
       "\n",
       "                   posting_date  fuel_id  transmission_id  \n",
       "17950  2021-04-05T04:00:21-0600        1                1  \n",
       "17951  2021-04-05T03:50:20-0600        1                1  \n",
       "17952  2021-04-05T03:30:19-0600        1                1  \n",
       "17953  2021-04-04T03:21:34-0600        1                2  \n",
       "17954  2021-04-04T03:21:11-0600        1                1  "
      ]
     },
     "execution_count": 5,
     "metadata": {},
     "output_type": "execute_result"
    }
   ],
   "source": [
    "df.tail()"
   ]
  },
  {
   "cell_type": "code",
   "execution_count": 7,
   "metadata": {},
   "outputs": [],
   "source": [
    "cdf = pd.DataFrame(df['model'].value_counts())"
   ]
  },
  {
   "cell_type": "code",
   "execution_count": 28,
   "metadata": {},
   "outputs": [
    {
     "data": {
      "text/plain": [
       "model    3316\n",
       "dtype: int64"
      ]
     },
     "execution_count": 28,
     "metadata": {},
     "output_type": "execute_result"
    }
   ],
   "source": [
    "cdf[cdf['model'] >= 140].sum()"
   ]
  },
  {
   "cell_type": "code",
   "execution_count": 32,
   "metadata": {},
   "outputs": [],
   "source": [
    "for i in range(len(df)):\n",
    "    if df.at[i, 'year'] == 2018:\n",
    "        df.at[i, 'year'] = 2019\n",
    "    elif df.at[i, 'year'] == 2019:\n",
    "        df.at[i, 'year'] = 2020\n",
    "    else:\n",
    "        df.at[i, 'year'] = 2021"
   ]
  },
  {
   "cell_type": "code",
   "execution_count": 23,
   "metadata": {},
   "outputs": [],
   "source": [
    "df = df[df['year'] >= 2018].copy()"
   ]
  },
  {
   "cell_type": "code",
   "execution_count": 18,
   "metadata": {},
   "outputs": [
    {
     "data": {
      "text/plain": [
       "10284"
      ]
     },
     "execution_count": 18,
     "metadata": {},
     "output_type": "execute_result"
    }
   ],
   "source": [
    "len(df)"
   ]
  },
  {
   "cell_type": "code",
   "execution_count": 9,
   "metadata": {},
   "outputs": [
    {
     "data": {
      "text/html": [
       "<div>\n",
       "<style scoped>\n",
       "    .dataframe tbody tr th:only-of-type {\n",
       "        vertical-align: middle;\n",
       "    }\n",
       "\n",
       "    .dataframe tbody tr th {\n",
       "        vertical-align: top;\n",
       "    }\n",
       "\n",
       "    .dataframe thead th {\n",
       "        text-align: right;\n",
       "    }\n",
       "</style>\n",
       "<table border=\"1\" class=\"dataframe\">\n",
       "  <thead>\n",
       "    <tr style=\"text-align: right;\">\n",
       "      <th></th>\n",
       "      <th>id</th>\n",
       "      <th>url</th>\n",
       "      <th>region</th>\n",
       "      <th>region_url</th>\n",
       "      <th>price</th>\n",
       "      <th>year</th>\n",
       "      <th>manufacturer</th>\n",
       "      <th>model</th>\n",
       "      <th>condition</th>\n",
       "      <th>cylinders</th>\n",
       "      <th>...</th>\n",
       "      <th>size</th>\n",
       "      <th>type</th>\n",
       "      <th>paint_color</th>\n",
       "      <th>image_url</th>\n",
       "      <th>description</th>\n",
       "      <th>county</th>\n",
       "      <th>state</th>\n",
       "      <th>lat</th>\n",
       "      <th>long</th>\n",
       "      <th>posting_date</th>\n",
       "    </tr>\n",
       "  </thead>\n",
       "  <tbody>\n",
       "  </tbody>\n",
       "</table>\n",
       "<p>0 rows × 26 columns</p>\n",
       "</div>"
      ],
      "text/plain": [
       "Empty DataFrame\n",
       "Columns: [id, url, region, region_url, price, year, manufacturer, model, condition, cylinders, fuel, odometer, title_status, transmission, VIN, drive, size, type, paint_color, image_url, description, county, state, lat, long, posting_date]\n",
       "Index: []\n",
       "\n",
       "[0 rows x 26 columns]"
      ]
     },
     "execution_count": 9,
     "metadata": {},
     "output_type": "execute_result"
    }
   ],
   "source": [
    "df.dropna()"
   ]
  },
  {
   "cell_type": "code",
   "execution_count": 12,
   "metadata": {},
   "outputs": [],
   "source": [
    "df = df.drop(['VIN', 'drive', 'size', 'county'], axis = 1).copy()"
   ]
  },
  {
   "cell_type": "code",
   "execution_count": 15,
   "metadata": {},
   "outputs": [],
   "source": [
    "df = df.dropna().copy()"
   ]
  },
  {
   "cell_type": "code",
   "execution_count": 18,
   "metadata": {},
   "outputs": [],
   "source": [
    "df = df.drop(['url', 'region_url', 'description', 'image_url'], axis = 1).copy()"
   ]
  },
  {
   "cell_type": "code",
   "execution_count": 25,
   "metadata": {},
   "outputs": [],
   "source": [
    "df = df.drop(['region'], axis = 1).copy()"
   ]
  },
  {
   "cell_type": "code",
   "execution_count": 27,
   "metadata": {},
   "outputs": [],
   "source": [
    "df = df.drop(['title_status'], axis = 1).copy()"
   ]
  },
  {
   "cell_type": "code",
   "execution_count": 32,
   "metadata": {},
   "outputs": [],
   "source": [
    "df.reset_index(drop=True, inplace=True)\n"
   ]
  },
  {
   "cell_type": "code",
   "execution_count": 33,
   "metadata": {},
   "outputs": [],
   "source": [
    "for i in range(len(df)):\n",
    "    if df.at[i, 'transmission'] == \"other\":\n",
    "        df.at[i, 'transmission'] = \"mechanical\""
   ]
  },
  {
   "cell_type": "code",
   "execution_count": 36,
   "metadata": {},
   "outputs": [
    {
     "data": {
      "text/plain": [
       "array(['white', 'blue', 'red', 'black', 'silver', 'grey', 'brown',\n",
       "       'yellow', 'green', 'custom', 'purple', 'orange'], dtype=object)"
      ]
     },
     "execution_count": 36,
     "metadata": {},
     "output_type": "execute_result"
    }
   ],
   "source": [
    "df.paint_color.unique()"
   ]
  },
  {
   "cell_type": "code",
   "execution_count": 43,
   "metadata": {},
   "outputs": [],
   "source": [
    "df['odometer'] = df['odometer'].astype('int')"
   ]
  },
  {
   "cell_type": "code",
   "execution_count": 47,
   "metadata": {},
   "outputs": [],
   "source": [
    "df['long'] = round(df['long'].astype('float'), 2)"
   ]
  },
  {
   "cell_type": "code",
   "execution_count": 49,
   "metadata": {},
   "outputs": [],
   "source": [
    "for i in range(len(df)):\n",
    "    df.at[i, 'lat'] = str(df.at[i, 'lat']).replace('.', ',')\n",
    "    df.at[i, 'long'] = str(df.at[i, 'long']).replace('.', ',')"
   ]
  },
  {
   "cell_type": "code",
   "execution_count": 33,
   "metadata": {},
   "outputs": [],
   "source": [
    "df.set_index('id', inplace=True)"
   ]
  },
  {
   "cell_type": "code",
   "execution_count": 34,
   "metadata": {},
   "outputs": [
    {
     "data": {
      "text/html": [
       "<div>\n",
       "<style scoped>\n",
       "    .dataframe tbody tr th:only-of-type {\n",
       "        vertical-align: middle;\n",
       "    }\n",
       "\n",
       "    .dataframe tbody tr th {\n",
       "        vertical-align: top;\n",
       "    }\n",
       "\n",
       "    .dataframe thead th {\n",
       "        text-align: right;\n",
       "    }\n",
       "</style>\n",
       "<table border=\"1\" class=\"dataframe\">\n",
       "  <thead>\n",
       "    <tr style=\"text-align: right;\">\n",
       "      <th></th>\n",
       "      <th>price</th>\n",
       "      <th>year</th>\n",
       "      <th>manufacturer</th>\n",
       "      <th>model</th>\n",
       "      <th>condition</th>\n",
       "      <th>cylinders</th>\n",
       "      <th>odometer</th>\n",
       "      <th>type</th>\n",
       "      <th>paint_color</th>\n",
       "      <th>state</th>\n",
       "      <th>lat</th>\n",
       "      <th>long</th>\n",
       "      <th>posting_date</th>\n",
       "      <th>fuel_id</th>\n",
       "      <th>transmission_id</th>\n",
       "    </tr>\n",
       "    <tr>\n",
       "      <th>id</th>\n",
       "      <th></th>\n",
       "      <th></th>\n",
       "      <th></th>\n",
       "      <th></th>\n",
       "      <th></th>\n",
       "      <th></th>\n",
       "      <th></th>\n",
       "      <th></th>\n",
       "      <th></th>\n",
       "      <th></th>\n",
       "      <th></th>\n",
       "      <th></th>\n",
       "      <th></th>\n",
       "      <th></th>\n",
       "      <th></th>\n",
       "    </tr>\n",
       "  </thead>\n",
       "  <tbody>\n",
       "    <tr>\n",
       "      <th>7316814989</th>\n",
       "      <td>39590</td>\n",
       "      <td>2021</td>\n",
       "      <td>chevrolet</td>\n",
       "      <td>silverado 1500 crew</td>\n",
       "      <td>good</td>\n",
       "      <td>8 cylinders</td>\n",
       "      <td>19160</td>\n",
       "      <td>pickup</td>\n",
       "      <td>red</td>\n",
       "      <td>al</td>\n",
       "      <td>32,59</td>\n",
       "      <td>-85,48</td>\n",
       "      <td>2021-05-04T12:31:25-0500</td>\n",
       "      <td>1</td>\n",
       "      <td>1</td>\n",
       "    </tr>\n",
       "    <tr>\n",
       "      <th>7316285779</th>\n",
       "      <td>35000</td>\n",
       "      <td>2020</td>\n",
       "      <td>toyota</td>\n",
       "      <td>tacoma</td>\n",
       "      <td>excellent</td>\n",
       "      <td>6 cylinders</td>\n",
       "      <td>43000</td>\n",
       "      <td>truck</td>\n",
       "      <td>grey</td>\n",
       "      <td>al</td>\n",
       "      <td>32,6</td>\n",
       "      <td>-85,44</td>\n",
       "      <td>2021-05-03T12:12:59-0500</td>\n",
       "      <td>1</td>\n",
       "      <td>2</td>\n",
       "    </tr>\n",
       "    <tr>\n",
       "      <th>7315270785</th>\n",
       "      <td>27990</td>\n",
       "      <td>2019</td>\n",
       "      <td>nissan</td>\n",
       "      <td>frontier crew cab pro-4x</td>\n",
       "      <td>good</td>\n",
       "      <td>6 cylinders</td>\n",
       "      <td>37332</td>\n",
       "      <td>pickup</td>\n",
       "      <td>silver</td>\n",
       "      <td>al</td>\n",
       "      <td>32,59</td>\n",
       "      <td>-85,48</td>\n",
       "      <td>2021-05-01T09:11:35-0500</td>\n",
       "      <td>1</td>\n",
       "      <td>1</td>\n",
       "    </tr>\n",
       "    <tr>\n",
       "      <th>7314910156</th>\n",
       "      <td>34590</td>\n",
       "      <td>2019</td>\n",
       "      <td>ford</td>\n",
       "      <td>f150 super cab xl pickup 4d</td>\n",
       "      <td>good</td>\n",
       "      <td>6 cylinders</td>\n",
       "      <td>20856</td>\n",
       "      <td>pickup</td>\n",
       "      <td>white</td>\n",
       "      <td>al</td>\n",
       "      <td>32,59</td>\n",
       "      <td>-85,48</td>\n",
       "      <td>2021-04-30T12:51:31-0500</td>\n",
       "      <td>1</td>\n",
       "      <td>1</td>\n",
       "    </tr>\n",
       "    <tr>\n",
       "      <th>7313387888</th>\n",
       "      <td>28590</td>\n",
       "      <td>2019</td>\n",
       "      <td>ram</td>\n",
       "      <td>1500 quad cab express pickup</td>\n",
       "      <td>good</td>\n",
       "      <td>6 cylinders</td>\n",
       "      <td>30047</td>\n",
       "      <td>pickup</td>\n",
       "      <td>white</td>\n",
       "      <td>al</td>\n",
       "      <td>32,59</td>\n",
       "      <td>-85,48</td>\n",
       "      <td>2021-04-27T11:51:04-0500</td>\n",
       "      <td>3</td>\n",
       "      <td>1</td>\n",
       "    </tr>\n",
       "    <tr>\n",
       "      <th>...</th>\n",
       "      <td>...</td>\n",
       "      <td>...</td>\n",
       "      <td>...</td>\n",
       "      <td>...</td>\n",
       "      <td>...</td>\n",
       "      <td>...</td>\n",
       "      <td>...</td>\n",
       "      <td>...</td>\n",
       "      <td>...</td>\n",
       "      <td>...</td>\n",
       "      <td>...</td>\n",
       "      <td>...</td>\n",
       "      <td>...</td>\n",
       "      <td>...</td>\n",
       "      <td>...</td>\n",
       "    </tr>\n",
       "    <tr>\n",
       "      <th>7301954392</th>\n",
       "      <td>41990</td>\n",
       "      <td>2020</td>\n",
       "      <td>toyota</td>\n",
       "      <td>4runner limited sport</td>\n",
       "      <td>good</td>\n",
       "      <td>6 cylinders</td>\n",
       "      <td>36630</td>\n",
       "      <td>SUV</td>\n",
       "      <td>white</td>\n",
       "      <td>wy</td>\n",
       "      <td>33,79</td>\n",
       "      <td>-84,45</td>\n",
       "      <td>2021-04-05T04:00:21-0600</td>\n",
       "      <td>1</td>\n",
       "      <td>1</td>\n",
       "    </tr>\n",
       "    <tr>\n",
       "      <th>7301953587</th>\n",
       "      <td>51990</td>\n",
       "      <td>2021</td>\n",
       "      <td>cadillac</td>\n",
       "      <td>xt6 premium luxury</td>\n",
       "      <td>good</td>\n",
       "      <td>6 cylinders</td>\n",
       "      <td>6814</td>\n",
       "      <td>other</td>\n",
       "      <td>black</td>\n",
       "      <td>wy</td>\n",
       "      <td>33,78</td>\n",
       "      <td>-84,41</td>\n",
       "      <td>2021-04-05T03:50:20-0600</td>\n",
       "      <td>1</td>\n",
       "      <td>1</td>\n",
       "    </tr>\n",
       "    <tr>\n",
       "      <th>7301952155</th>\n",
       "      <td>48590</td>\n",
       "      <td>2021</td>\n",
       "      <td>cadillac</td>\n",
       "      <td>xt6 premium luxury</td>\n",
       "      <td>good</td>\n",
       "      <td>6 cylinders</td>\n",
       "      <td>7701</td>\n",
       "      <td>other</td>\n",
       "      <td>black</td>\n",
       "      <td>wy</td>\n",
       "      <td>33,78</td>\n",
       "      <td>-84,41</td>\n",
       "      <td>2021-04-05T03:30:19-0600</td>\n",
       "      <td>1</td>\n",
       "      <td>1</td>\n",
       "    </tr>\n",
       "    <tr>\n",
       "      <th>7301591199</th>\n",
       "      <td>33590</td>\n",
       "      <td>2019</td>\n",
       "      <td>lexus</td>\n",
       "      <td>gs 350 sedan 4d</td>\n",
       "      <td>good</td>\n",
       "      <td>6 cylinders</td>\n",
       "      <td>30814</td>\n",
       "      <td>sedan</td>\n",
       "      <td>white</td>\n",
       "      <td>wy</td>\n",
       "      <td>33,78</td>\n",
       "      <td>-84,41</td>\n",
       "      <td>2021-04-04T03:21:34-0600</td>\n",
       "      <td>1</td>\n",
       "      <td>2</td>\n",
       "    </tr>\n",
       "    <tr>\n",
       "      <th>7301591140</th>\n",
       "      <td>28990</td>\n",
       "      <td>2019</td>\n",
       "      <td>lexus</td>\n",
       "      <td>es 350 sedan 4d</td>\n",
       "      <td>good</td>\n",
       "      <td>6 cylinders</td>\n",
       "      <td>30112</td>\n",
       "      <td>sedan</td>\n",
       "      <td>silver</td>\n",
       "      <td>wy</td>\n",
       "      <td>33,79</td>\n",
       "      <td>-84,45</td>\n",
       "      <td>2021-04-04T03:21:11-0600</td>\n",
       "      <td>1</td>\n",
       "      <td>1</td>\n",
       "    </tr>\n",
       "  </tbody>\n",
       "</table>\n",
       "<p>17955 rows × 15 columns</p>\n",
       "</div>"
      ],
      "text/plain": [
       "            price  year manufacturer                         model  condition  \\\n",
       "id                                                                              \n",
       "7316814989  39590  2021    chevrolet           silverado 1500 crew       good   \n",
       "7316285779  35000  2020       toyota                        tacoma  excellent   \n",
       "7315270785  27990  2019       nissan      frontier crew cab pro-4x       good   \n",
       "7314910156  34590  2019         ford   f150 super cab xl pickup 4d       good   \n",
       "7313387888  28590  2019          ram  1500 quad cab express pickup       good   \n",
       "...           ...   ...          ...                           ...        ...   \n",
       "7301954392  41990  2020       toyota         4runner limited sport       good   \n",
       "7301953587  51990  2021     cadillac            xt6 premium luxury       good   \n",
       "7301952155  48590  2021     cadillac            xt6 premium luxury       good   \n",
       "7301591199  33590  2019        lexus               gs 350 sedan 4d       good   \n",
       "7301591140  28990  2019        lexus               es 350 sedan 4d       good   \n",
       "\n",
       "              cylinders  odometer    type paint_color state    lat    long  \\\n",
       "id                                                                           \n",
       "7316814989  8 cylinders     19160  pickup         red    al  32,59  -85,48   \n",
       "7316285779  6 cylinders     43000   truck        grey    al   32,6  -85,44   \n",
       "7315270785  6 cylinders     37332  pickup      silver    al  32,59  -85,48   \n",
       "7314910156  6 cylinders     20856  pickup       white    al  32,59  -85,48   \n",
       "7313387888  6 cylinders     30047  pickup       white    al  32,59  -85,48   \n",
       "...                 ...       ...     ...         ...   ...    ...     ...   \n",
       "7301954392  6 cylinders     36630     SUV       white    wy  33,79  -84,45   \n",
       "7301953587  6 cylinders      6814   other       black    wy  33,78  -84,41   \n",
       "7301952155  6 cylinders      7701   other       black    wy  33,78  -84,41   \n",
       "7301591199  6 cylinders     30814   sedan       white    wy  33,78  -84,41   \n",
       "7301591140  6 cylinders     30112   sedan      silver    wy  33,79  -84,45   \n",
       "\n",
       "                        posting_date  fuel_id  transmission_id  \n",
       "id                                                              \n",
       "7316814989  2021-05-04T12:31:25-0500        1                1  \n",
       "7316285779  2021-05-03T12:12:59-0500        1                2  \n",
       "7315270785  2021-05-01T09:11:35-0500        1                1  \n",
       "7314910156  2021-04-30T12:51:31-0500        1                1  \n",
       "7313387888  2021-04-27T11:51:04-0500        3                1  \n",
       "...                              ...      ...              ...  \n",
       "7301954392  2021-04-05T04:00:21-0600        1                1  \n",
       "7301953587  2021-04-05T03:50:20-0600        1                1  \n",
       "7301952155  2021-04-05T03:30:19-0600        1                1  \n",
       "7301591199  2021-04-04T03:21:34-0600        1                2  \n",
       "7301591140  2021-04-04T03:21:11-0600        1                1  \n",
       "\n",
       "[17955 rows x 15 columns]"
      ]
     },
     "execution_count": 34,
     "metadata": {},
     "output_type": "execute_result"
    }
   ],
   "source": [
    "df"
   ]
  },
  {
   "cell_type": "code",
   "execution_count": 26,
   "metadata": {},
   "outputs": [],
   "source": [
    "df.to_csv('vehicles.csv')"
   ]
  },
  {
   "cell_type": "code",
   "execution_count": 54,
   "metadata": {},
   "outputs": [
    {
     "data": {
      "text/plain": [
       "129766"
      ]
     },
     "execution_count": 54,
     "metadata": {},
     "output_type": "execute_result"
    }
   ],
   "source": [
    "len(df)"
   ]
  },
  {
   "cell_type": "code",
   "execution_count": 58,
   "metadata": {},
   "outputs": [],
   "source": [
    "f = list(df['fuel'].unique())"
   ]
  },
  {
   "cell_type": "code",
   "execution_count": 59,
   "metadata": {},
   "outputs": [],
   "source": [
    "fDf = pd.DataFrame(f, index = [i for i in range(1, len(f) + 1)])"
   ]
  },
  {
   "cell_type": "code",
   "execution_count": 60,
   "metadata": {},
   "outputs": [],
   "source": [
    "fDf.index.name = 'fuel_id'"
   ]
  },
  {
   "cell_type": "code",
   "execution_count": 78,
   "metadata": {},
   "outputs": [],
   "source": [
    "fDf.columns = ['fuel']"
   ]
  },
  {
   "cell_type": "code",
   "execution_count": 62,
   "metadata": {},
   "outputs": [
    {
     "data": {
      "text/html": [
       "<div>\n",
       "<style scoped>\n",
       "    .dataframe tbody tr th:only-of-type {\n",
       "        vertical-align: middle;\n",
       "    }\n",
       "\n",
       "    .dataframe tbody tr th {\n",
       "        vertical-align: top;\n",
       "    }\n",
       "\n",
       "    .dataframe thead th {\n",
       "        text-align: right;\n",
       "    }\n",
       "</style>\n",
       "<table border=\"1\" class=\"dataframe\">\n",
       "  <thead>\n",
       "    <tr style=\"text-align: right;\">\n",
       "      <th></th>\n",
       "      <th>fuel</th>\n",
       "    </tr>\n",
       "    <tr>\n",
       "      <th>fuel_id</th>\n",
       "      <th></th>\n",
       "    </tr>\n",
       "  </thead>\n",
       "  <tbody>\n",
       "    <tr>\n",
       "      <th>1</th>\n",
       "      <td>gas</td>\n",
       "    </tr>\n",
       "    <tr>\n",
       "      <th>2</th>\n",
       "      <td>diesel</td>\n",
       "    </tr>\n",
       "    <tr>\n",
       "      <th>3</th>\n",
       "      <td>other</td>\n",
       "    </tr>\n",
       "    <tr>\n",
       "      <th>4</th>\n",
       "      <td>hybrid</td>\n",
       "    </tr>\n",
       "    <tr>\n",
       "      <th>5</th>\n",
       "      <td>electric</td>\n",
       "    </tr>\n",
       "  </tbody>\n",
       "</table>\n",
       "</div>"
      ],
      "text/plain": [
       "             fuel\n",
       "fuel_id          \n",
       "1             gas\n",
       "2          diesel\n",
       "3           other\n",
       "4          hybrid\n",
       "5        electric"
      ]
     },
     "execution_count": 62,
     "metadata": {},
     "output_type": "execute_result"
    }
   ],
   "source": [
    "fDf"
   ]
  },
  {
   "cell_type": "code",
   "execution_count": 75,
   "metadata": {},
   "outputs": [],
   "source": [
    "fDf.to_csv(\"fuel.csv\")"
   ]
  },
  {
   "cell_type": "code",
   "execution_count": 64,
   "metadata": {},
   "outputs": [],
   "source": [
    "df = pd.read_csv('vehicles.csv')"
   ]
  },
  {
   "cell_type": "code",
   "execution_count": 65,
   "metadata": {},
   "outputs": [],
   "source": [
    "df['fuel_id'] = 0"
   ]
  },
  {
   "cell_type": "code",
   "execution_count": 66,
   "metadata": {},
   "outputs": [],
   "source": [
    "for i in range(len(df)):\n",
    "    for j in range(len(f)):\n",
    "        if df.at[i, 'fuel'] == f[j]:\n",
    "            df.at[i, 'fuel_id'] = j + 1"
   ]
  },
  {
   "cell_type": "code",
   "execution_count": 73,
   "metadata": {},
   "outputs": [],
   "source": [
    "df = df.drop('fuel', axis = 1).copy()"
   ]
  },
  {
   "cell_type": "code",
   "execution_count": 77,
   "metadata": {},
   "outputs": [],
   "source": [
    "t = list(df['transmission'].unique())"
   ]
  },
  {
   "cell_type": "code",
   "execution_count": 79,
   "metadata": {},
   "outputs": [
    {
     "data": {
      "text/html": [
       "<div>\n",
       "<style scoped>\n",
       "    .dataframe tbody tr th:only-of-type {\n",
       "        vertical-align: middle;\n",
       "    }\n",
       "\n",
       "    .dataframe tbody tr th {\n",
       "        vertical-align: top;\n",
       "    }\n",
       "\n",
       "    .dataframe thead th {\n",
       "        text-align: right;\n",
       "    }\n",
       "</style>\n",
       "<table border=\"1\" class=\"dataframe\">\n",
       "  <thead>\n",
       "    <tr style=\"text-align: right;\">\n",
       "      <th></th>\n",
       "      <th>transmission</th>\n",
       "    </tr>\n",
       "    <tr>\n",
       "      <th>transmission_id</th>\n",
       "      <th></th>\n",
       "    </tr>\n",
       "  </thead>\n",
       "  <tbody>\n",
       "    <tr>\n",
       "      <th>1</th>\n",
       "      <td>mechanical</td>\n",
       "    </tr>\n",
       "    <tr>\n",
       "      <th>2</th>\n",
       "      <td>automatic</td>\n",
       "    </tr>\n",
       "    <tr>\n",
       "      <th>3</th>\n",
       "      <td>manual</td>\n",
       "    </tr>\n",
       "  </tbody>\n",
       "</table>\n",
       "</div>"
      ],
      "text/plain": [
       "                transmission\n",
       "transmission_id             \n",
       "1                 mechanical\n",
       "2                  automatic\n",
       "3                     manual"
      ]
     },
     "execution_count": 79,
     "metadata": {},
     "output_type": "execute_result"
    }
   ],
   "source": [
    "tDf = pd.DataFrame(t, index = [i for i in range(1, len(t) + 1)])\n",
    "tDf.index.name = 'transmission_id'\n",
    "tDf.columns = ['transmission']\n",
    "tDf"
   ]
  },
  {
   "cell_type": "code",
   "execution_count": 86,
   "metadata": {},
   "outputs": [],
   "source": [
    "tDf.to_csv('transmission.csv')"
   ]
  },
  {
   "cell_type": "code",
   "execution_count": 80,
   "metadata": {},
   "outputs": [],
   "source": [
    "df['transmission_id'] = 0"
   ]
  },
  {
   "cell_type": "code",
   "execution_count": 81,
   "metadata": {},
   "outputs": [],
   "source": [
    "for i in range(len(df)):\n",
    "    for j in range(len(t)):\n",
    "        if df.at[i, 'transmission'] == t[j]:\n",
    "            df.at[i, 'transmission_id'] = j + 1"
   ]
  },
  {
   "cell_type": "code",
   "execution_count": 84,
   "metadata": {},
   "outputs": [],
   "source": [
    "df = df.drop('transmission', axis = 1).copy()"
   ]
  },
  {
   "cell_type": "code",
   "execution_count": 88,
   "metadata": {},
   "outputs": [
    {
     "data": {
      "text/plain": [
       "array(['8 cylinders', '6 cylinders', '4 cylinders', '5 cylinders',\n",
       "       '10 cylinders', '3 cylinders', 'other', '12 cylinders'],\n",
       "      dtype=object)"
      ]
     },
     "execution_count": 88,
     "metadata": {},
     "output_type": "execute_result"
    }
   ],
   "source": [
    "df['cylinders'].unique()"
   ]
  },
  {
   "cell_type": "code",
   "execution_count": 90,
   "metadata": {},
   "outputs": [],
   "source": [
    "df.to_csv('vehicles.csv')"
   ]
  }
 ],
 "metadata": {
  "kernelspec": {
   "display_name": "Python 3.10.8 64-bit",
   "language": "python",
   "name": "python3"
  },
  "language_info": {
   "codemirror_mode": {
    "name": "ipython",
    "version": 3
   },
   "file_extension": ".py",
   "mimetype": "text/x-python",
   "name": "python",
   "nbconvert_exporter": "python",
   "pygments_lexer": "ipython3",
   "version": "3.10.8"
  },
  "orig_nbformat": 4,
  "vscode": {
   "interpreter": {
    "hash": "876db7d3f8682b7e4c5477e5f1e2dc2bd1b19fe05d9aabd59218369070754b39"
   }
  }
 },
 "nbformat": 4,
 "nbformat_minor": 2
}
